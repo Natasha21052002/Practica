{
 "cells": [
  {
   "cell_type": "markdown",
   "id": "9fff3956",
   "metadata": {},
   "source": [
    "# Загрузка данных анкет и проведение МАИ, анализ полученных результатов\n",
    "Данные: заполненные анкеты экспертов (таблицы Excel) "
   ]
  },
  {
   "cell_type": "code",
   "execution_count": 34,
   "id": "2bfb20c9",
   "metadata": {},
   "outputs": [],
   "source": [
    "import re\n",
    "import numpy as np\n",
    "import pandas as pd\n",
    "import scipy as sp\n",
    "import matplotlib.pyplot as plt\n",
    "from random import randint"
   ]
  },
  {
   "cell_type": "code",
   "execution_count": 35,
   "id": "748326de",
   "metadata": {
    "scrolled": true
   },
   "outputs": [
    {
     "data": {
      "text/html": [
       "<div>\n",
       "<style scoped>\n",
       "    .dataframe tbody tr th:only-of-type {\n",
       "        vertical-align: middle;\n",
       "    }\n",
       "\n",
       "    .dataframe tbody tr th {\n",
       "        vertical-align: top;\n",
       "    }\n",
       "\n",
       "    .dataframe thead th {\n",
       "        text-align: right;\n",
       "    }\n",
       "</style>\n",
       "<table border=\"1\" class=\"dataframe\">\n",
       "  <thead>\n",
       "    <tr style=\"text-align: right;\">\n",
       "      <th></th>\n",
       "      <th>Вид происшествия</th>\n",
       "      <th>Аварии</th>\n",
       "      <th>Инциденты</th>\n",
       "      <th>Предпосылки</th>\n",
       "    </tr>\n",
       "  </thead>\n",
       "  <tbody>\n",
       "    <tr>\n",
       "      <th>0</th>\n",
       "      <td>Аварии</td>\n",
       "      <td>1.000000</td>\n",
       "      <td>7.000000</td>\n",
       "      <td>9</td>\n",
       "    </tr>\n",
       "    <tr>\n",
       "      <th>1</th>\n",
       "      <td>Инциденты</td>\n",
       "      <td>0.142857</td>\n",
       "      <td>1.000000</td>\n",
       "      <td>6</td>\n",
       "    </tr>\n",
       "    <tr>\n",
       "      <th>2</th>\n",
       "      <td>Предпосылки к инцидентам</td>\n",
       "      <td>0.111111</td>\n",
       "      <td>0.166667</td>\n",
       "      <td>1</td>\n",
       "    </tr>\n",
       "  </tbody>\n",
       "</table>\n",
       "</div>"
      ],
      "text/plain": [
       "           Вид происшествия    Аварии  Инциденты  Предпосылки\n",
       "0                    Аварии  1.000000   7.000000            9\n",
       "1                 Инциденты  0.142857   1.000000            6\n",
       "2  Предпосылки к инцидентам  0.111111   0.166667            1"
      ]
     },
     "execution_count": 35,
     "metadata": {},
     "output_type": "execute_result"
    }
   ],
   "source": [
    "df = pd.read_excel(r'C:\\Users\\user\\матрица\\Экс3.xlsx')\n",
    "df.head()"
   ]
  },
  {
   "cell_type": "code",
   "execution_count": 36,
   "id": "254ae242",
   "metadata": {},
   "outputs": [
    {
     "name": "stdout",
     "output_type": "stream",
     "text": [
      "Число строк и столбцов в наборе данных:\n",
      " (3, 4)\n"
     ]
    }
   ],
   "source": [
    "print('Число строк и столбцов в наборе данных:\\n', df.shape)"
   ]
  },
  {
   "cell_type": "code",
   "execution_count": 37,
   "id": "12d8cb8f",
   "metadata": {},
   "outputs": [
    {
     "data": {
      "text/plain": [
       "Вид происшествия     object\n",
       "Аварии              float64\n",
       "Инциденты           float64\n",
       "Предпосылки           int64\n",
       "dtype: object"
      ]
     },
     "execution_count": 37,
     "metadata": {},
     "output_type": "execute_result"
    }
   ],
   "source": [
    "# типы столбцов \n",
    "df.dtypes"
   ]
  },
  {
   "cell_type": "code",
   "execution_count": 38,
   "id": "3b7725c0",
   "metadata": {},
   "outputs": [
    {
     "name": "stdout",
     "output_type": "stream",
     "text": [
      "     Аварии  Инциденты  Предпосылки\n",
      "0  1.000000   7.000000            9\n",
      "1  0.142857   1.000000            6\n",
      "2  0.111111   0.166667            1\n"
     ]
    }
   ],
   "source": [
    "#удаление столбца типа object для дальнейшей работы с фреймом \n",
    "df.pop('Вид происшествия') \n",
    "print(df)"
   ]
  },
  {
   "cell_type": "code",
   "execution_count": 39,
   "id": "4a1f0394",
   "metadata": {},
   "outputs": [
    {
     "data": {
      "text/plain": [
       "Аварии         float64\n",
       "Инциденты      float64\n",
       "Предпосылки      int64\n",
       "dtype: object"
      ]
     },
     "execution_count": 39,
     "metadata": {},
     "output_type": "execute_result"
    }
   ],
   "source": [
    "# типы столбцов \n",
    "df.dtypes"
   ]
  },
  {
   "cell_type": "code",
   "execution_count": 40,
   "id": "741963fb",
   "metadata": {},
   "outputs": [],
   "source": [
    "# также меням тип данных Предпосылки, Инциденты, Аварии\n",
    "df['Предпосылки'] = df['Предпосылки'].astype(float)\n",
    "df['Инциденты'] = df['Инциденты'].astype(float)\n",
    "df['Аварии'] = df['Аварии'].astype(float)"
   ]
  },
  {
   "cell_type": "code",
   "execution_count": 41,
   "id": "06625c67",
   "metadata": {},
   "outputs": [
    {
     "data": {
      "text/html": [
       "<div>\n",
       "<style scoped>\n",
       "    .dataframe tbody tr th:only-of-type {\n",
       "        vertical-align: middle;\n",
       "    }\n",
       "\n",
       "    .dataframe tbody tr th {\n",
       "        vertical-align: top;\n",
       "    }\n",
       "\n",
       "    .dataframe thead th {\n",
       "        text-align: right;\n",
       "    }\n",
       "</style>\n",
       "<table border=\"1\" class=\"dataframe\">\n",
       "  <thead>\n",
       "    <tr style=\"text-align: right;\">\n",
       "      <th></th>\n",
       "      <th>Аварии</th>\n",
       "      <th>Инциденты</th>\n",
       "      <th>Предпосылки</th>\n",
       "    </tr>\n",
       "  </thead>\n",
       "  <tbody>\n",
       "    <tr>\n",
       "      <th>0</th>\n",
       "      <td>1.000000</td>\n",
       "      <td>7.000000</td>\n",
       "      <td>9.0</td>\n",
       "    </tr>\n",
       "    <tr>\n",
       "      <th>1</th>\n",
       "      <td>0.142857</td>\n",
       "      <td>1.000000</td>\n",
       "      <td>6.0</td>\n",
       "    </tr>\n",
       "    <tr>\n",
       "      <th>2</th>\n",
       "      <td>0.111111</td>\n",
       "      <td>0.166667</td>\n",
       "      <td>1.0</td>\n",
       "    </tr>\n",
       "  </tbody>\n",
       "</table>\n",
       "</div>"
      ],
      "text/plain": [
       "     Аварии  Инциденты  Предпосылки\n",
       "0  1.000000   7.000000          9.0\n",
       "1  0.142857   1.000000          6.0\n",
       "2  0.111111   0.166667          1.0"
      ]
     },
     "execution_count": 41,
     "metadata": {},
     "output_type": "execute_result"
    }
   ],
   "source": [
    "df.loc[:, df.columns[df.dtypes == 'float64']].head()"
   ]
  },
  {
   "cell_type": "code",
   "execution_count": 42,
   "id": "7cea4411",
   "metadata": {},
   "outputs": [],
   "source": [
    "DF_1=df[:].copy()"
   ]
  },
  {
   "cell_type": "code",
   "execution_count": 43,
   "id": "4f26fc97",
   "metadata": {},
   "outputs": [
    {
     "data": {
      "text/plain": [
       "Аварии          1.253968\n",
       "Инциденты       8.166667\n",
       "Предпосылки    16.000000\n",
       "dtype: float64"
      ]
     },
     "execution_count": 43,
     "metadata": {},
     "output_type": "execute_result"
    }
   ],
   "source": [
    "#Найдем сумму всех столбцов, для того чтобы в дальнейшем пересчитать полученные значения\n",
    "df.sum ()"
   ]
  },
  {
   "cell_type": "code",
   "execution_count": 44,
   "id": "f6dbda88",
   "metadata": {},
   "outputs": [],
   "source": [
    "# Считаем значения для нашей матрицы, путем деления каждого значения в столбце на сумму столбца\n",
    "df['new_Аварии'] = df['Аварии'].astype(float).div(df['Аварии'].sum())\n",
    "df['new_Инциденты'] = df['Инциденты'].astype(float).div(df['Инциденты'].sum())\n",
    "df['new_Предпосылки'] = df['Предпосылки'].astype(float).div(df['Предпосылки'].sum())"
   ]
  },
  {
   "cell_type": "code",
   "execution_count": 45,
   "id": "1dbef853",
   "metadata": {},
   "outputs": [
    {
     "data": {
      "text/html": [
       "<div>\n",
       "<style scoped>\n",
       "    .dataframe tbody tr th:only-of-type {\n",
       "        vertical-align: middle;\n",
       "    }\n",
       "\n",
       "    .dataframe tbody tr th {\n",
       "        vertical-align: top;\n",
       "    }\n",
       "\n",
       "    .dataframe thead th {\n",
       "        text-align: right;\n",
       "    }\n",
       "</style>\n",
       "<table border=\"1\" class=\"dataframe\">\n",
       "  <thead>\n",
       "    <tr style=\"text-align: right;\">\n",
       "      <th></th>\n",
       "      <th>Аварии</th>\n",
       "      <th>Инциденты</th>\n",
       "      <th>Предпосылки</th>\n",
       "      <th>new_Аварии</th>\n",
       "      <th>new_Инциденты</th>\n",
       "      <th>new_Предпосылки</th>\n",
       "    </tr>\n",
       "  </thead>\n",
       "  <tbody>\n",
       "    <tr>\n",
       "      <th>0</th>\n",
       "      <td>1.000000</td>\n",
       "      <td>7.000000</td>\n",
       "      <td>9.0</td>\n",
       "      <td>0.797468</td>\n",
       "      <td>0.857143</td>\n",
       "      <td>0.5625</td>\n",
       "    </tr>\n",
       "    <tr>\n",
       "      <th>1</th>\n",
       "      <td>0.142857</td>\n",
       "      <td>1.000000</td>\n",
       "      <td>6.0</td>\n",
       "      <td>0.113924</td>\n",
       "      <td>0.122449</td>\n",
       "      <td>0.3750</td>\n",
       "    </tr>\n",
       "    <tr>\n",
       "      <th>2</th>\n",
       "      <td>0.111111</td>\n",
       "      <td>0.166667</td>\n",
       "      <td>1.0</td>\n",
       "      <td>0.088608</td>\n",
       "      <td>0.020408</td>\n",
       "      <td>0.0625</td>\n",
       "    </tr>\n",
       "  </tbody>\n",
       "</table>\n",
       "</div>"
      ],
      "text/plain": [
       "     Аварии  Инциденты  Предпосылки  new_Аварии  new_Инциденты  \\\n",
       "0  1.000000   7.000000          9.0    0.797468       0.857143   \n",
       "1  0.142857   1.000000          6.0    0.113924       0.122449   \n",
       "2  0.111111   0.166667          1.0    0.088608       0.020408   \n",
       "\n",
       "   new_Предпосылки  \n",
       "0           0.5625  \n",
       "1           0.3750  \n",
       "2           0.0625  "
      ]
     },
     "execution_count": 45,
     "metadata": {},
     "output_type": "execute_result"
    }
   ],
   "source": [
    "df.head()"
   ]
  },
  {
   "cell_type": "code",
   "execution_count": 46,
   "id": "e1d83863",
   "metadata": {},
   "outputs": [
    {
     "data": {
      "text/html": [
       "<div>\n",
       "<style scoped>\n",
       "    .dataframe tbody tr th:only-of-type {\n",
       "        vertical-align: middle;\n",
       "    }\n",
       "\n",
       "    .dataframe tbody tr th {\n",
       "        vertical-align: top;\n",
       "    }\n",
       "\n",
       "    .dataframe thead th {\n",
       "        text-align: right;\n",
       "    }\n",
       "</style>\n",
       "<table border=\"1\" class=\"dataframe\">\n",
       "  <thead>\n",
       "    <tr style=\"text-align: right;\">\n",
       "      <th></th>\n",
       "      <th>new_Аварии</th>\n",
       "      <th>new_Инциденты</th>\n",
       "      <th>new_Предпосылки</th>\n",
       "    </tr>\n",
       "  </thead>\n",
       "  <tbody>\n",
       "    <tr>\n",
       "      <th>0</th>\n",
       "      <td>0.797468</td>\n",
       "      <td>0.857143</td>\n",
       "      <td>0.5625</td>\n",
       "    </tr>\n",
       "    <tr>\n",
       "      <th>1</th>\n",
       "      <td>0.113924</td>\n",
       "      <td>0.122449</td>\n",
       "      <td>0.3750</td>\n",
       "    </tr>\n",
       "    <tr>\n",
       "      <th>2</th>\n",
       "      <td>0.088608</td>\n",
       "      <td>0.020408</td>\n",
       "      <td>0.0625</td>\n",
       "    </tr>\n",
       "  </tbody>\n",
       "</table>\n",
       "</div>"
      ],
      "text/plain": [
       "   new_Аварии  new_Инциденты  new_Предпосылки\n",
       "0    0.797468       0.857143           0.5625\n",
       "1    0.113924       0.122449           0.3750\n",
       "2    0.088608       0.020408           0.0625"
      ]
     },
     "execution_count": 46,
     "metadata": {},
     "output_type": "execute_result"
    }
   ],
   "source": [
    "# Получили новую таблицу теперь отделим значения нашей матрицы от основной таблицы\n",
    "df_new = df[['new_Аварии', 'new_Инциденты', 'new_Предпосылки']]\n",
    "df_new"
   ]
  },
  {
   "cell_type": "code",
   "execution_count": 47,
   "id": "39ec3224",
   "metadata": {},
   "outputs": [
    {
     "name": "stderr",
     "output_type": "stream",
     "text": [
      "C:\\Users\\user\\anaconda3\\envs\\envpy3.5\\lib\\site-packages\\ipykernel_launcher.py:2: SettingWithCopyWarning: \n",
      "A value is trying to be set on a copy of a slice from a DataFrame.\n",
      "Try using .loc[row_indexer,col_indexer] = value instead\n",
      "\n",
      "See the caveats in the documentation: http://pandas.pydata.org/pandas-docs/stable/indexing.html#indexing-view-versus-copy\n",
      "  \n"
     ]
    },
    {
     "data": {
      "text/html": [
       "<div>\n",
       "<style scoped>\n",
       "    .dataframe tbody tr th:only-of-type {\n",
       "        vertical-align: middle;\n",
       "    }\n",
       "\n",
       "    .dataframe tbody tr th {\n",
       "        vertical-align: top;\n",
       "    }\n",
       "\n",
       "    .dataframe thead th {\n",
       "        text-align: right;\n",
       "    }\n",
       "</style>\n",
       "<table border=\"1\" class=\"dataframe\">\n",
       "  <thead>\n",
       "    <tr style=\"text-align: right;\">\n",
       "      <th></th>\n",
       "      <th>new_Аварии</th>\n",
       "      <th>new_Инциденты</th>\n",
       "      <th>new_Предпосылки</th>\n",
       "      <th>mean</th>\n",
       "    </tr>\n",
       "  </thead>\n",
       "  <tbody>\n",
       "    <tr>\n",
       "      <th>0</th>\n",
       "      <td>0.797468</td>\n",
       "      <td>0.857143</td>\n",
       "      <td>0.5625</td>\n",
       "      <td>0.739037</td>\n",
       "    </tr>\n",
       "    <tr>\n",
       "      <th>1</th>\n",
       "      <td>0.113924</td>\n",
       "      <td>0.122449</td>\n",
       "      <td>0.3750</td>\n",
       "      <td>0.203791</td>\n",
       "    </tr>\n",
       "    <tr>\n",
       "      <th>2</th>\n",
       "      <td>0.088608</td>\n",
       "      <td>0.020408</td>\n",
       "      <td>0.0625</td>\n",
       "      <td>0.057172</td>\n",
       "    </tr>\n",
       "  </tbody>\n",
       "</table>\n",
       "</div>"
      ],
      "text/plain": [
       "   new_Аварии  new_Инциденты  new_Предпосылки      mean\n",
       "0    0.797468       0.857143           0.5625  0.739037\n",
       "1    0.113924       0.122449           0.3750  0.203791\n",
       "2    0.088608       0.020408           0.0625  0.057172"
      ]
     },
     "execution_count": 47,
     "metadata": {},
     "output_type": "execute_result"
    }
   ],
   "source": [
    "#Вычислим средние значение по строке и запишем полученный результот в mean\n",
    "df_new['mean'] = df_new.mean(axis=1)\n",
    "df_new.head()"
   ]
  },
  {
   "cell_type": "code",
   "execution_count": 48,
   "id": "95ae4fc4",
   "metadata": {},
   "outputs": [
    {
     "data": {
      "text/plain": [
       "0.9999999999999999"
      ]
     },
     "execution_count": 48,
     "metadata": {},
     "output_type": "execute_result"
    }
   ],
   "source": [
    "#проверка, среднее значение в сумме должно быть равно 1\n",
    "df_new['mean'].sum()"
   ]
  },
  {
   "cell_type": "code",
   "execution_count": 49,
   "id": "6e483623",
   "metadata": {},
   "outputs": [],
   "source": [
    "# Далее проведем проверку на согласованность, \n",
    "#для этого создадим из нашей полученной выше таблицы матрицы для дальнейшего их перемножения\n",
    "df_new4 =df_new['mean']\n",
    "\n",
    "# удаляем из нашей таблицы значениея столбцы mean\n",
    "#df_new.pop('mean')\n",
    "\n",
    "df_new1 =DF_1.loc[0]\n",
    "\n",
    "df_new2 =DF_1.loc[1]\n",
    "\n",
    "df_new3 =DF_1.loc[2]"
   ]
  },
  {
   "cell_type": "code",
   "execution_count": 50,
   "id": "327b5e94",
   "metadata": {},
   "outputs": [
    {
     "name": "stdout",
     "output_type": "stream",
     "text": [
      "2.680121415731307\n",
      "0.652399250876138\n",
      "0.17325231777746603\n"
     ]
    }
   ],
   "source": [
    "#Проверка на согласованность\n",
    "res1 = np.dot(df_new1,df_new4)\n",
    "print(res1)\n",
    "res2 = np.dot(df_new2,df_new4)\n",
    "print(res2)\n",
    "res3 = np.dot(df_new3,df_new4)\n",
    "print(res3)"
   ]
  },
  {
   "cell_type": "code",
   "execution_count": 51,
   "id": "19f49949",
   "metadata": {},
   "outputs": [
    {
     "name": "stdout",
     "output_type": "stream",
     "text": [
      "3.505772984384911\n"
     ]
    }
   ],
   "source": [
    "sum_new = res1 + res2 + res3 \n",
    "print(sum_new)"
   ]
  },
  {
   "cell_type": "code",
   "execution_count": 52,
   "id": "5906472f",
   "metadata": {
    "scrolled": true
   },
   "outputs": [
    {
     "name": "stdout",
     "output_type": "stream",
     "text": [
      "0.2528864921924554\n",
      "0.66\n",
      "0.3831613518067506\n"
     ]
    }
   ],
   "source": [
    "# Вычислем значения CI, RI, CR\n",
    "CI = (sum_new - 3)/(3-1)\n",
    "print(CI)\n",
    "RI = (1.98*(3-2))/3\n",
    "print(RI)\n",
    "CR = CI/RI\n",
    "print(CR)"
   ]
  },
  {
   "cell_type": "code",
   "execution_count": 53,
   "id": "75a1ac95",
   "metadata": {},
   "outputs": [],
   "source": [
    "# Получилось, что значение CR=0.38, что больше 0,1 значит матрицу нельзя считать согласованной\n",
    "# Проделаем аналогичные действия с другими экспертами"
   ]
  }
 ],
 "metadata": {
  "kernelspec": {
   "display_name": "envpy3.5",
   "language": "python",
   "name": "myenv"
  },
  "language_info": {
   "codemirror_mode": {
    "name": "ipython",
    "version": 3
   },
   "file_extension": ".py",
   "mimetype": "text/x-python",
   "name": "python",
   "nbconvert_exporter": "python",
   "pygments_lexer": "ipython3",
   "version": "3.5.6"
  }
 },
 "nbformat": 4,
 "nbformat_minor": 5
}
