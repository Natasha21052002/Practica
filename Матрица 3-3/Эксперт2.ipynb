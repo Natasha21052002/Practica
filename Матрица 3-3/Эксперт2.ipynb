{
 "cells": [
  {
   "cell_type": "markdown",
   "id": "c7c36261",
   "metadata": {},
   "source": [
    "# Загрузка данных анкет и проведение МАИ, анализ полученных результатов\n",
    "Данные: заполненные анкеты экспертов (таблицы Excel) "
   ]
  },
  {
   "cell_type": "code",
   "execution_count": 1,
   "id": "bf61100b",
   "metadata": {},
   "outputs": [],
   "source": [
    "import re\n",
    "import numpy as np\n",
    "import pandas as pd\n",
    "import scipy as sp\n",
    "import matplotlib.pyplot as plt\n",
    "from random import randint"
   ]
  },
  {
   "cell_type": "code",
   "execution_count": 2,
   "id": "fa04ea8a",
   "metadata": {
    "scrolled": true
   },
   "outputs": [
    {
     "data": {
      "text/html": [
       "<div>\n",
       "<style scoped>\n",
       "    .dataframe tbody tr th:only-of-type {\n",
       "        vertical-align: middle;\n",
       "    }\n",
       "\n",
       "    .dataframe tbody tr th {\n",
       "        vertical-align: top;\n",
       "    }\n",
       "\n",
       "    .dataframe thead th {\n",
       "        text-align: right;\n",
       "    }\n",
       "</style>\n",
       "<table border=\"1\" class=\"dataframe\">\n",
       "  <thead>\n",
       "    <tr style=\"text-align: right;\">\n",
       "      <th></th>\n",
       "      <th>Вид происшествия</th>\n",
       "      <th>Аварии</th>\n",
       "      <th>Инциденты</th>\n",
       "      <th>Предпосылки</th>\n",
       "    </tr>\n",
       "  </thead>\n",
       "  <tbody>\n",
       "    <tr>\n",
       "      <th>0</th>\n",
       "      <td>Аварии</td>\n",
       "      <td>1.000000</td>\n",
       "      <td>7.0</td>\n",
       "      <td>9</td>\n",
       "    </tr>\n",
       "    <tr>\n",
       "      <th>1</th>\n",
       "      <td>Инциденты</td>\n",
       "      <td>0.142857</td>\n",
       "      <td>1.0</td>\n",
       "      <td>5</td>\n",
       "    </tr>\n",
       "    <tr>\n",
       "      <th>2</th>\n",
       "      <td>Предпосылки к инцидентам</td>\n",
       "      <td>0.111111</td>\n",
       "      <td>0.2</td>\n",
       "      <td>1</td>\n",
       "    </tr>\n",
       "  </tbody>\n",
       "</table>\n",
       "</div>"
      ],
      "text/plain": [
       "           Вид происшествия    Аварии  Инциденты  Предпосылки\n",
       "0                    Аварии  1.000000        7.0            9\n",
       "1                 Инциденты  0.142857        1.0            5\n",
       "2  Предпосылки к инцидентам  0.111111        0.2            1"
      ]
     },
     "execution_count": 2,
     "metadata": {},
     "output_type": "execute_result"
    }
   ],
   "source": [
    "\n",
    "df = pd.read_excel(r'C:\\Users\\user\\матрица\\Экс2.xlsx')\n",
    "df.head()"
   ]
  },
  {
   "cell_type": "code",
   "execution_count": 3,
   "id": "3e6ef8fb",
   "metadata": {},
   "outputs": [
    {
     "name": "stdout",
     "output_type": "stream",
     "text": [
      "Число строк и столбцов в наборе данных:\n",
      " (3, 4)\n"
     ]
    }
   ],
   "source": [
    "print('Число строк и столбцов в наборе данных:\\n', df.shape)"
   ]
  },
  {
   "cell_type": "code",
   "execution_count": 4,
   "id": "5a89e9a4",
   "metadata": {},
   "outputs": [
    {
     "data": {
      "text/plain": [
       "Вид происшествия     object\n",
       "Аварии              float64\n",
       "Инциденты           float64\n",
       "Предпосылки           int64\n",
       "dtype: object"
      ]
     },
     "execution_count": 4,
     "metadata": {},
     "output_type": "execute_result"
    }
   ],
   "source": [
    "# типы столбцов \n",
    "df.dtypes"
   ]
  },
  {
   "cell_type": "code",
   "execution_count": 5,
   "id": "d0ef6469",
   "metadata": {},
   "outputs": [
    {
     "name": "stdout",
     "output_type": "stream",
     "text": [
      "     Аварии  Инциденты  Предпосылки\n",
      "0  1.000000        7.0            9\n",
      "1  0.142857        1.0            5\n",
      "2  0.111111        0.2            1\n"
     ]
    }
   ],
   "source": [
    "#удаление столбца типа object для дальнейшей работы с фреймом \n",
    "df.pop('Вид происшествия') \n",
    "print(df)"
   ]
  },
  {
   "cell_type": "code",
   "execution_count": 6,
   "id": "273a7068",
   "metadata": {},
   "outputs": [
    {
     "data": {
      "text/plain": [
       "Аварии         float64\n",
       "Инциденты      float64\n",
       "Предпосылки      int64\n",
       "dtype: object"
      ]
     },
     "execution_count": 6,
     "metadata": {},
     "output_type": "execute_result"
    }
   ],
   "source": [
    "# типы столбцов \n",
    "df.dtypes"
   ]
  },
  {
   "cell_type": "code",
   "execution_count": 7,
   "id": "897dfaa0",
   "metadata": {},
   "outputs": [],
   "source": [
    "# также меням тип данных Предпосылки\n",
    "df['Предпосылки'] = df['Предпосылки'].astype(float)"
   ]
  },
  {
   "cell_type": "code",
   "execution_count": 8,
   "id": "bfb4a9d2",
   "metadata": {},
   "outputs": [
    {
     "data": {
      "text/html": [
       "<div>\n",
       "<style scoped>\n",
       "    .dataframe tbody tr th:only-of-type {\n",
       "        vertical-align: middle;\n",
       "    }\n",
       "\n",
       "    .dataframe tbody tr th {\n",
       "        vertical-align: top;\n",
       "    }\n",
       "\n",
       "    .dataframe thead th {\n",
       "        text-align: right;\n",
       "    }\n",
       "</style>\n",
       "<table border=\"1\" class=\"dataframe\">\n",
       "  <thead>\n",
       "    <tr style=\"text-align: right;\">\n",
       "      <th></th>\n",
       "      <th>Аварии</th>\n",
       "      <th>Инциденты</th>\n",
       "      <th>Предпосылки</th>\n",
       "    </tr>\n",
       "  </thead>\n",
       "  <tbody>\n",
       "    <tr>\n",
       "      <th>0</th>\n",
       "      <td>1.000000</td>\n",
       "      <td>7.0</td>\n",
       "      <td>9.0</td>\n",
       "    </tr>\n",
       "    <tr>\n",
       "      <th>1</th>\n",
       "      <td>0.142857</td>\n",
       "      <td>1.0</td>\n",
       "      <td>5.0</td>\n",
       "    </tr>\n",
       "    <tr>\n",
       "      <th>2</th>\n",
       "      <td>0.111111</td>\n",
       "      <td>0.2</td>\n",
       "      <td>1.0</td>\n",
       "    </tr>\n",
       "  </tbody>\n",
       "</table>\n",
       "</div>"
      ],
      "text/plain": [
       "     Аварии  Инциденты  Предпосылки\n",
       "0  1.000000        7.0          9.0\n",
       "1  0.142857        1.0          5.0\n",
       "2  0.111111        0.2          1.0"
      ]
     },
     "execution_count": 8,
     "metadata": {},
     "output_type": "execute_result"
    }
   ],
   "source": [
    "df.loc[:, df.columns[df.dtypes == 'float64']].head()"
   ]
  },
  {
   "cell_type": "code",
   "execution_count": 9,
   "id": "15c08c0e",
   "metadata": {},
   "outputs": [],
   "source": [
    "DF_1=df[:].copy()"
   ]
  },
  {
   "cell_type": "code",
   "execution_count": 10,
   "id": "8b8b2eaf",
   "metadata": {},
   "outputs": [
    {
     "data": {
      "text/plain": [
       "Аварии          1.253968\n",
       "Инциденты       8.200000\n",
       "Предпосылки    15.000000\n",
       "dtype: float64"
      ]
     },
     "execution_count": 10,
     "metadata": {},
     "output_type": "execute_result"
    }
   ],
   "source": [
    "#Найдем сумму всех столбцов, для того чтобы в дальнейшем пересчитать полученные значения\n",
    "df.sum ()"
   ]
  },
  {
   "cell_type": "code",
   "execution_count": 11,
   "id": "e14b4ca5",
   "metadata": {},
   "outputs": [],
   "source": [
    "# Считаем значения для нашей матрицы, путем деления каждого значения в столбце на сумму столбца\n",
    "df['new_Аварии'] = df['Аварии'].astype(float).div(df['Аварии'].sum())\n",
    "df['new_Инциденты'] = df['Инциденты'].astype(float).div(df['Инциденты'].sum())\n",
    "df['new_Предпосылки'] = df['Предпосылки'].astype(float).div(df['Предпосылки'].sum())"
   ]
  },
  {
   "cell_type": "code",
   "execution_count": 12,
   "id": "bdbe384e",
   "metadata": {},
   "outputs": [
    {
     "data": {
      "text/html": [
       "<div>\n",
       "<style scoped>\n",
       "    .dataframe tbody tr th:only-of-type {\n",
       "        vertical-align: middle;\n",
       "    }\n",
       "\n",
       "    .dataframe tbody tr th {\n",
       "        vertical-align: top;\n",
       "    }\n",
       "\n",
       "    .dataframe thead th {\n",
       "        text-align: right;\n",
       "    }\n",
       "</style>\n",
       "<table border=\"1\" class=\"dataframe\">\n",
       "  <thead>\n",
       "    <tr style=\"text-align: right;\">\n",
       "      <th></th>\n",
       "      <th>Аварии</th>\n",
       "      <th>Инциденты</th>\n",
       "      <th>Предпосылки</th>\n",
       "      <th>new_Аварии</th>\n",
       "      <th>new_Инциденты</th>\n",
       "      <th>new_Предпосылки</th>\n",
       "    </tr>\n",
       "  </thead>\n",
       "  <tbody>\n",
       "    <tr>\n",
       "      <th>0</th>\n",
       "      <td>1.000000</td>\n",
       "      <td>7.0</td>\n",
       "      <td>9.0</td>\n",
       "      <td>0.797468</td>\n",
       "      <td>0.853659</td>\n",
       "      <td>0.600000</td>\n",
       "    </tr>\n",
       "    <tr>\n",
       "      <th>1</th>\n",
       "      <td>0.142857</td>\n",
       "      <td>1.0</td>\n",
       "      <td>5.0</td>\n",
       "      <td>0.113924</td>\n",
       "      <td>0.121951</td>\n",
       "      <td>0.333333</td>\n",
       "    </tr>\n",
       "    <tr>\n",
       "      <th>2</th>\n",
       "      <td>0.111111</td>\n",
       "      <td>0.2</td>\n",
       "      <td>1.0</td>\n",
       "      <td>0.088608</td>\n",
       "      <td>0.024390</td>\n",
       "      <td>0.066667</td>\n",
       "    </tr>\n",
       "  </tbody>\n",
       "</table>\n",
       "</div>"
      ],
      "text/plain": [
       "     Аварии  Инциденты  Предпосылки  new_Аварии  new_Инциденты  \\\n",
       "0  1.000000        7.0          9.0    0.797468       0.853659   \n",
       "1  0.142857        1.0          5.0    0.113924       0.121951   \n",
       "2  0.111111        0.2          1.0    0.088608       0.024390   \n",
       "\n",
       "   new_Предпосылки  \n",
       "0         0.600000  \n",
       "1         0.333333  \n",
       "2         0.066667  "
      ]
     },
     "execution_count": 12,
     "metadata": {},
     "output_type": "execute_result"
    }
   ],
   "source": [
    "df.head()"
   ]
  },
  {
   "cell_type": "code",
   "execution_count": 13,
   "id": "eb3fe27c",
   "metadata": {},
   "outputs": [
    {
     "data": {
      "text/html": [
       "<div>\n",
       "<style scoped>\n",
       "    .dataframe tbody tr th:only-of-type {\n",
       "        vertical-align: middle;\n",
       "    }\n",
       "\n",
       "    .dataframe tbody tr th {\n",
       "        vertical-align: top;\n",
       "    }\n",
       "\n",
       "    .dataframe thead th {\n",
       "        text-align: right;\n",
       "    }\n",
       "</style>\n",
       "<table border=\"1\" class=\"dataframe\">\n",
       "  <thead>\n",
       "    <tr style=\"text-align: right;\">\n",
       "      <th></th>\n",
       "      <th>new_Аварии</th>\n",
       "      <th>new_Инциденты</th>\n",
       "      <th>new_Предпосылки</th>\n",
       "    </tr>\n",
       "  </thead>\n",
       "  <tbody>\n",
       "    <tr>\n",
       "      <th>0</th>\n",
       "      <td>0.797468</td>\n",
       "      <td>0.853659</td>\n",
       "      <td>0.600000</td>\n",
       "    </tr>\n",
       "    <tr>\n",
       "      <th>1</th>\n",
       "      <td>0.113924</td>\n",
       "      <td>0.121951</td>\n",
       "      <td>0.333333</td>\n",
       "    </tr>\n",
       "    <tr>\n",
       "      <th>2</th>\n",
       "      <td>0.088608</td>\n",
       "      <td>0.024390</td>\n",
       "      <td>0.066667</td>\n",
       "    </tr>\n",
       "  </tbody>\n",
       "</table>\n",
       "</div>"
      ],
      "text/plain": [
       "   new_Аварии  new_Инциденты  new_Предпосылки\n",
       "0    0.797468       0.853659         0.600000\n",
       "1    0.113924       0.121951         0.333333\n",
       "2    0.088608       0.024390         0.066667"
      ]
     },
     "execution_count": 13,
     "metadata": {},
     "output_type": "execute_result"
    }
   ],
   "source": [
    "# Получили новую таблицу теперь отделим значения нашей матрицы от основной таблицы\n",
    "df_new = df[['new_Аварии', 'new_Инциденты', 'new_Предпосылки']]\n",
    "df_new"
   ]
  },
  {
   "cell_type": "code",
   "execution_count": 14,
   "id": "dc123784",
   "metadata": {},
   "outputs": [
    {
     "name": "stderr",
     "output_type": "stream",
     "text": [
      "C:\\Users\\user\\anaconda3\\envs\\envpy3.5\\lib\\site-packages\\ipykernel_launcher.py:2: SettingWithCopyWarning: \n",
      "A value is trying to be set on a copy of a slice from a DataFrame.\n",
      "Try using .loc[row_indexer,col_indexer] = value instead\n",
      "\n",
      "See the caveats in the documentation: http://pandas.pydata.org/pandas-docs/stable/indexing.html#indexing-view-versus-copy\n",
      "  \n"
     ]
    },
    {
     "data": {
      "text/html": [
       "<div>\n",
       "<style scoped>\n",
       "    .dataframe tbody tr th:only-of-type {\n",
       "        vertical-align: middle;\n",
       "    }\n",
       "\n",
       "    .dataframe tbody tr th {\n",
       "        vertical-align: top;\n",
       "    }\n",
       "\n",
       "    .dataframe thead th {\n",
       "        text-align: right;\n",
       "    }\n",
       "</style>\n",
       "<table border=\"1\" class=\"dataframe\">\n",
       "  <thead>\n",
       "    <tr style=\"text-align: right;\">\n",
       "      <th></th>\n",
       "      <th>new_Аварии</th>\n",
       "      <th>new_Инциденты</th>\n",
       "      <th>new_Предпосылки</th>\n",
       "      <th>mean</th>\n",
       "    </tr>\n",
       "  </thead>\n",
       "  <tbody>\n",
       "    <tr>\n",
       "      <th>0</th>\n",
       "      <td>0.797468</td>\n",
       "      <td>0.853659</td>\n",
       "      <td>0.600000</td>\n",
       "      <td>0.750376</td>\n",
       "    </tr>\n",
       "    <tr>\n",
       "      <th>1</th>\n",
       "      <td>0.113924</td>\n",
       "      <td>0.121951</td>\n",
       "      <td>0.333333</td>\n",
       "      <td>0.189736</td>\n",
       "    </tr>\n",
       "    <tr>\n",
       "      <th>2</th>\n",
       "      <td>0.088608</td>\n",
       "      <td>0.024390</td>\n",
       "      <td>0.066667</td>\n",
       "      <td>0.059888</td>\n",
       "    </tr>\n",
       "  </tbody>\n",
       "</table>\n",
       "</div>"
      ],
      "text/plain": [
       "   new_Аварии  new_Инциденты  new_Предпосылки      mean\n",
       "0    0.797468       0.853659         0.600000  0.750376\n",
       "1    0.113924       0.121951         0.333333  0.189736\n",
       "2    0.088608       0.024390         0.066667  0.059888"
      ]
     },
     "execution_count": 14,
     "metadata": {},
     "output_type": "execute_result"
    }
   ],
   "source": [
    "#Вычислим средние значение по строке и запишем полученный результот в mean\n",
    "df_new['mean'] = df_new.mean(axis=1)\n",
    "df_new.head()"
   ]
  },
  {
   "cell_type": "code",
   "execution_count": 15,
   "id": "6b43129d",
   "metadata": {},
   "outputs": [
    {
     "data": {
      "text/plain": [
       "1.0"
      ]
     },
     "execution_count": 15,
     "metadata": {},
     "output_type": "execute_result"
    }
   ],
   "source": [
    "#проверка, среднее значение в сумме должно быть равно 1\n",
    "df_new['mean'].sum()"
   ]
  },
  {
   "cell_type": "code",
   "execution_count": 16,
   "id": "70f82722",
   "metadata": {},
   "outputs": [],
   "source": [
    "# Далее проведем проверку на согласованность, \n",
    "#для этого создадим из нашей полученной выше таблицы матрицы для дальнейшего их перемножения\n",
    "df_new4 =df_new['mean']\n",
    "\n",
    "# удаляем из нашей таблицы значениея столбцы mean\n",
    "#df_new.pop('mean')\n",
    "\n",
    "df_new1 =DF_1.loc[0]\n",
    "\n",
    "df_new2 =DF_1.loc[1]\n",
    "\n",
    "df_new3 =DF_1.loc[2]"
   ]
  },
  {
   "cell_type": "code",
   "execution_count": 17,
   "id": "afbfc958",
   "metadata": {},
   "outputs": [
    {
     "name": "stdout",
     "output_type": "stream",
     "text": [
      "2.6175225549723855\n",
      "0.5963735622889683\n",
      "0.18121047877145438\n"
     ]
    }
   ],
   "source": [
    "#Проверка на согласованность\n",
    "res1 = np.dot(df_new1,df_new4)\n",
    "print(res1)\n",
    "res2 = np.dot(df_new2,df_new4)\n",
    "print(res2)\n",
    "res3 = np.dot(df_new3,df_new4)\n",
    "print(res3)"
   ]
  },
  {
   "cell_type": "code",
   "execution_count": 18,
   "id": "475f9d6c",
   "metadata": {},
   "outputs": [
    {
     "name": "stdout",
     "output_type": "stream",
     "text": [
      "3.395106596032808\n"
     ]
    }
   ],
   "source": [
    "sum_new = res1 + res2 + res3 \n",
    "print(sum_new)"
   ]
  },
  {
   "cell_type": "code",
   "execution_count": 19,
   "id": "b61f468d",
   "metadata": {
    "scrolled": true
   },
   "outputs": [
    {
     "name": "stdout",
     "output_type": "stream",
     "text": [
      "0.1975532980164041\n",
      "0.66\n",
      "0.29932317881273346\n"
     ]
    }
   ],
   "source": [
    "# Вычислем значения CI, RI, CR\n",
    "CI = (sum_new - 3)/(3-1)\n",
    "print(CI)\n",
    "RI = (1.98*(3-2))/3\n",
    "print(RI)\n",
    "CR = CI/RI\n",
    "print(CR)"
   ]
  },
  {
   "cell_type": "code",
   "execution_count": 20,
   "id": "334f6e89",
   "metadata": {},
   "outputs": [],
   "source": [
    "# Получилось, что значение CR=0.29, что больше 0,1 значит матрицу нельзя считать согласованной\n",
    "# Проделаем аналогичные действия с другими экспертами"
   ]
  }
 ],
 "metadata": {
  "kernelspec": {
   "display_name": "envpy3.5",
   "language": "python",
   "name": "myenv"
  },
  "language_info": {
   "codemirror_mode": {
    "name": "ipython",
    "version": 3
   },
   "file_extension": ".py",
   "mimetype": "text/x-python",
   "name": "python",
   "nbconvert_exporter": "python",
   "pygments_lexer": "ipython3",
   "version": "3.5.6"
  }
 },
 "nbformat": 4,
 "nbformat_minor": 5
}
